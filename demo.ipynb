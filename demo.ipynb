{
 "cells": [
  {
   "cell_type": "code",
   "execution_count": 1,
   "metadata": {},
   "outputs": [
    {
     "name": "stderr",
     "output_type": "stream",
     "text": [
      "/home/yasaisen/anaconda3/envs/MVLM_RAG/lib/python3.10/site-packages/tqdm/auto.py:21: TqdmWarning: IProgress not found. Please update jupyter and ipywidgets. See https://ipywidgets.readthedocs.io/en/stable/user_install.html\n",
      "  from .autonotebook import tqdm as notebook_tqdm\n"
     ]
    }
   ],
   "source": [
    "import os\n",
    "from tryRAG.framework import RAGFramework"
   ]
  },
  {
   "cell_type": "code",
   "execution_count": 2,
   "metadata": {},
   "outputs": [],
   "source": [
    "doc_path = os.path.join(os.getcwd(), \"../..\", \"ref_docs\", \"eecs_20250606_text_bs_rewritten.jsonl\")\n",
    "\n",
    "cfg = {\n",
    "    \"lm_model_name\": \"../../gemma-3-4b-it\",\n",
    "    \"emb_model_name\": \"all-MiniLM-L6-v2\",\n",
    "    \"doc_path\": doc_path, \n",
    "    # \"idx_path\": None,\n",
    "    \"device\": \"cuda\",\n",
    "}"
   ]
  },
  {
   "cell_type": "code",
   "execution_count": null,
   "metadata": {},
   "outputs": [
    {
     "name": "stderr",
     "output_type": "stream",
     "text": [
      "Loading checkpoint shards: 100%|██████████| 2/2 [00:01<00:00,  1.01it/s]\n"
     ]
    },
    {
     "name": "stdout",
     "output_type": "stream",
     "text": [
      "Successfully loaded 4809 document chunks\n",
      "Save index to ./ref_idx/\n",
      "RAGFramework initialized\n",
      "\n",
      "Lee Julian Purnell is the first known Black student to graduate from the EECS department at UC Berkeley. He was born in Washington, D.C. in 1896, graduated from Berkeley High in 1915, earned a B.A. from Cal in 1919, a B.S. in Electrical Engineering from MIT in 1921, and an M.S. in Electrical Engineering from Berkeley in 1929.\n"
     ]
    }
   ],
   "source": [
    "rag = RAGFramework.from_config(cfg)\n",
    "\n",
    "question = 'Who is Lee Julian Purnell'\n",
    "question = 'For how long has Berkeley EECS been at the forefront of research? Available options:\\n    (A) Less than a decade\\n    (B) Over a quarter of a century\\n    (C) Over half a century\\n    (D) Over a century'\n",
    "\n",
    "response = rag.ask(question)\n",
    "\n",
    "print(response['response'])"
   ]
  }
 ],
 "metadata": {
  "kernelspec": {
   "display_name": "MVLM_RAG",
   "language": "python",
   "name": "python3"
  },
  "language_info": {
   "codemirror_mode": {
    "name": "ipython",
    "version": 3
   },
   "file_extension": ".py",
   "mimetype": "text/x-python",
   "name": "python",
   "nbconvert_exporter": "python",
   "pygments_lexer": "ipython3",
   "version": "3.10.18"
  },
  "orig_nbformat": 4
 },
 "nbformat": 4,
 "nbformat_minor": 2
}

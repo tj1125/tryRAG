{
 "cells": [
  {
   "cell_type": "code",
   "execution_count": 1,
   "metadata": {},
   "outputs": [
    {
     "name": "stderr",
     "output_type": "stream",
     "text": [
      "/home/yasaisen/anaconda3/envs/MVLM_RAG/lib/python3.10/site-packages/tqdm/auto.py:21: TqdmWarning: IProgress not found. Please update jupyter and ipywidgets. See https://ipywidgets.readthedocs.io/en/stable/user_install.html\n",
      "  from .autonotebook import tqdm as notebook_tqdm\n"
     ]
    }
   ],
   "source": [
    "import os\n",
    "from tryRAG.framework import RAGFramework"
   ]
  },
  {
   "cell_type": "code",
   "execution_count": 2,
   "metadata": {},
   "outputs": [
    {
     "name": "stderr",
     "output_type": "stream",
     "text": [
      "Loading checkpoint shards: 100%|██████████| 2/2 [00:02<00:00,  1.00s/it]\n"
     ]
    },
    {
     "name": "stdout",
     "output_type": "stream",
     "text": [
      "Loaded ['dense', 'sparse'] index from /home/yasaisen/Desktop/29_research/research_main/lab_05/to_git/tryRAG/../ref_idx/paragraph_p\n",
      "RAGFramework initialized\n",
      "\n"
     ]
    }
   ],
   "source": [
    "doc_path = os.path.join(os.getcwd(), \"../..\", \"ref_docs\", \"eecs_20250606_text_bs_rewritten.jsonl\")\n",
    "idx_path = os.path.join(os.getcwd(), \"..\", \"ref_idx\", \"paragraph_p\")\n",
    "\n",
    "cfg = {\n",
    "    \"lm_model_name\": \"../../gemma-3-4b-it\", \n",
    "    \"emb_model_name\": \"all-MiniLM-L6-v2\", \n",
    "    \"mode\": \"hybrid\", #@ \"hybrid\" / \"sparse\" / \"hybrid\"\n",
    "    \"chunk_level\": \"paragraph\", #@ \"web_page\" / \"paragraph\" / \"sentence\"\n",
    "    \"more_info\": True, #@ True / False\n",
    "    # \"doc_path\": doc_path, \n",
    "    \"idx_path\": idx_path, \n",
    "    \"device\": \"cuda\", \n",
    "}\n",
    "USE_UPPER_TEXT = False\n",
    "USE_PRE_ANSWER = False\n",
    "TOP_K = 5\n",
    "\n",
    "rag = RAGFramework.from_config(cfg)"
   ]
  },
  {
   "cell_type": "code",
   "execution_count": 3,
   "metadata": {},
   "outputs": [
    {
     "name": "stdout",
     "output_type": "stream",
     "text": [
      "Answer: (C) Over half a century. The text states that Berkeley EECS has been at the forefront of research for “over half a century.”\n",
      "====================\n",
      "13572 https://eecs.berkeley.edu/research/colloquium/archives/spring2021\n",
      "17551 https://eecs.berkeley.edu/category/research/page/4\n",
      "58708 https://eecs.berkeley.edu/category/research/page/76\n",
      "17550 https://eecs.berkeley.edu/category/research/page/4\n",
      "44627 https://eecs.berkeley.edu/category/research/page/12\n",
      "18856 http://www.eecs.berkeley.edu/IPRO/BEARS/2011\n",
      "18855 http://www.eecs.berkeley.edu/IPRO/BEARS/2011\n",
      "18881 http://www.eecs.berkeley.edu/IPRO/BEARS/2010\n",
      "18882 http://www.eecs.berkeley.edu/IPRO/BEARS/2010\n",
      "19411 http://www.eecs.berkeley.edu/IPRO/BEARS/open-house/12/trust.html\n"
     ]
    }
   ],
   "source": [
    "question = 'For how long has Berkeley EECS been at the forefront of research? Available options:\\n    (A) Less than a decade\\n    (B) Over a quarter of a century\\n    (C) Over half a century\\n    (D) Over a century'\n",
    "\n",
    "response = rag.ask(question, top_k=TOP_K)\n",
    "print(response['response'])\n",
    "\n",
    "print('=' * 20)\n",
    "for doc in response['relevant_docs']:\n",
    "    print(doc.idx, doc.url)"
   ]
  },
  {
   "cell_type": "code",
   "execution_count": 4,
   "metadata": {},
   "outputs": [
    {
     "name": "stdout",
     "output_type": "stream",
     "text": [
      "Lee Julian Purnell is the first Black student known to have graduated from the EECS department at UC Berkeley. He was born in Washington, D.C. in 1896, graduated from Berkeley High in 1915, earned a B.A. from Cal in 1919, and later obtained a B.S. in Electrical Engineering from MIT in 1921 and an M.S. in Electrical Engineering from Berkeley in 19\n",
      "====================\n",
      "63613 https://eecs.berkeley.edu/category/people/page/29\n",
      "63461 https://eecs.berkeley.edu/news/page/27/?field_eecs_news_topics_target_id_entityreference_filter=61\n",
      "63279 https://eecs.berkeley.edu/news/page/27/?field_eecs_news_topics_target_id_entityreference_filter=68\n",
      "14766 https://eecs.berkeley.edu/blog/page/7\n",
      "63462 https://eecs.berkeley.edu/news/page/27/?field_eecs_news_topics_target_id_entityreference_filter=61\n",
      "63154 https://eecs.berkeley.edu/news/page/27/?field_eecs_news_topics_target_id_entityreference_filter=60\n",
      "63023 https://eecs.berkeley.edu/news/page/27/?field_eecs_news_topics_target_id_entityreference_filter=64\n",
      "65052 https://eecs.berkeley.edu/news/page/27/?field_eecs_news_topics_target_id_entityreference_filter=67\n",
      "63608 https://eecs.berkeley.edu/category/people/page/28\n"
     ]
    }
   ],
   "source": [
    "question = 'Who is Lee Julian Purnell'\n",
    "\n",
    "response = rag.ask(question, top_k=TOP_K)\n",
    "print(response['response'])\n",
    "\n",
    "print('=' * 20)\n",
    "for doc in response['relevant_docs']:\n",
    "    print(doc.idx, doc.url)"
   ]
  },
  {
   "cell_type": "code",
   "execution_count": 5,
   "metadata": {},
   "outputs": [],
   "source": [
    "import json\n",
    "import evaluate\n",
    "from tqdm import tqdm\n",
    "\n",
    "bleu = evaluate.load(\"bleu\")\n",
    "rouge = evaluate.load(\"rouge\")\n",
    "bertscore = evaluate.load(\"bertscore\")\n",
    "\n",
    "def load_jsonl2list(data_path):\n",
    "    data_list = []\n",
    "    with open(data_path, 'r', encoding='utf-8') as file:\n",
    "        for line in file:\n",
    "            line = line.strip()\n",
    "            if line:\n",
    "                data = json.loads(line)\n",
    "                data_list += [data]\n",
    "\n",
    "    print(len(data_list), data_list[0].keys())\n",
    "    return data_list"
   ]
  },
  {
   "cell_type": "code",
   "execution_count": 6,
   "metadata": {},
   "outputs": [
    {
     "name": "stdout",
     "output_type": "stream",
     "text": [
      "103 dict_keys(['question', 'answer', 'url'])\n"
     ]
    }
   ],
   "source": [
    "data_path = os.path.join(os.getcwd(), \"..\", \"dataset\", \"ucb_eecs_rag_eval_dataset.jsonl\")\n",
    "data_list = load_jsonl2list(data_path)"
   ]
  },
  {
   "cell_type": "code",
   "execution_count": 7,
   "metadata": {},
   "outputs": [
    {
     "name": "stderr",
     "output_type": "stream",
     "text": [
      "100%|██████████| 103/103 [02:26<00:00,  1.43s/it]\n"
     ]
    }
   ],
   "source": [
    "url_acc_list = []\n",
    "con_acc_list = []\n",
    "cand = []\n",
    "ref = []\n",
    "for idx, sample in tqdm(enumerate(data_list), total=len(data_list)):\n",
    "\n",
    "    if idx in [50]:\n",
    "        continue\n",
    "\n",
    "    response = rag.ask(\n",
    "        sample['question'], \n",
    "        top_k=TOP_K, \n",
    "        use_upper_text=USE_UPPER_TEXT, \n",
    "        pre_answer=USE_PRE_ANSWER, \n",
    "    )\n",
    "\n",
    "    url_pred_list = []\n",
    "    doc_pred_list = []\n",
    "    for doc in response['relevant_docs']:\n",
    "        url_pred_list += [doc.url]\n",
    "        if USE_UPPER_TEXT:\n",
    "            doc_pred_list += [doc.upper_text]\n",
    "        else:\n",
    "            doc_pred_list += [doc.content]\n",
    "    url_gt = sample['url']\n",
    "\n",
    "    ans_pred = response['response']\n",
    "    ans_gt = sample['answer']\n",
    "\n",
    "    if url_gt in url_pred_list:\n",
    "        url_acc_list += [1]\n",
    "    else:\n",
    "        url_acc_list += [0]\n",
    "\n",
    "    hit_list = []\n",
    "    for content in doc_pred_list:\n",
    "        if ans_gt in content:\n",
    "            hit_list += [1]\n",
    "        else:\n",
    "            hit_list += [0]\n",
    "    con_acc_list += [sum(hit_list) / len(hit_list)]\n",
    "\n",
    "    cand += [ans_pred.split('Answer:')[-1]]\n",
    "    ref += [ans_gt]\n"
   ]
  },
  {
   "cell_type": "code",
   "execution_count": 8,
   "metadata": {},
   "outputs": [
    {
     "name": "stdout",
     "output_type": "stream",
     "text": [
      "0.04198787635885376\n",
      "0.5147775331166334\n",
      "0.31880252100840334\n",
      "0.5129326715831906\n",
      "0.5153271469015414\n"
     ]
    },
    {
     "name": "stderr",
     "output_type": "stream",
     "text": [
      "Some weights of RobertaModel were not initialized from the model checkpoint at roberta-large and are newly initialized: ['pooler.dense.bias', 'pooler.dense.weight']\n",
      "You should probably TRAIN this model on a down-stream task to be able to use it for predictions and inference.\n"
     ]
    },
    {
     "name": "stdout",
     "output_type": "stream",
     "text": [
      "0.8579\n",
      "0.4411764705882353\n",
      "0.32435807656395893\n"
     ]
    },
    {
     "name": "stderr",
     "output_type": "stream",
     "text": [
      "Warning: Empty candidate sentence detected; setting raw BERTscores to 0.\n",
      "Warning: Empty candidate sentence detected; setting raw BERTscores to 0.\n"
     ]
    }
   ],
   "source": [
    "_bleu = bleu.compute(predictions=cand, references=ref)\n",
    "print(f\"{_bleu['bleu']}\")\n",
    "_rouge = rouge.compute(predictions=cand, references=ref)\n",
    "print(f\"{_rouge['rouge1']}\\n{_rouge['rouge2']}\\n{_rouge['rougeL']}\\n{_rouge['rougeLsum']}\")\n",
    "bs_res = bertscore.compute(\n",
    "    predictions=cand,\n",
    "    references=ref,\n",
    "    lang=\"en\"\n",
    ")\n",
    "print(f\"{bs_res['f1'][0]:.4f}\")\n",
    "print(sum(url_acc_list) / len(url_acc_list))\n",
    "print(sum(con_acc_list) / len(con_acc_list))"
   ]
  },
  {
   "cell_type": "code",
   "execution_count": 9,
   "metadata": {},
   "outputs": [
    {
     "name": "stdout",
     "output_type": "stream",
     "text": [
      "14241 dict_keys(['chunk_url', 'content', 'question', 'answer'])\n"
     ]
    }
   ],
   "source": [
    "import random\n",
    "\n",
    "data_path = os.path.join(os.getcwd(), \"..\", \"dataset\", \"multiple_choice_qa_dataset.jsonl\")\n",
    "_data_list = load_jsonl2list(data_path)\n",
    "\n",
    "random.seed(42)\n",
    "random.shuffle(_data_list)\n",
    "_data_list = _data_list[:200]\n",
    "\n",
    "map_dict = {\n",
    "    \"? (A) \": \"? Available options:\\n    (A) \", \n",
    "    \" (B) \": \"\\n    (B) \", \n",
    "    \" (C) \": \"\\n    (C) \",\n",
    "    \" (D) \": \"\\n    (D) \",\n",
    "}\n",
    "\n",
    "data_list = []\n",
    "for sample in _data_list:\n",
    "\n",
    "    for key, value in map_dict.items():\n",
    "        question = sample['question'].replace(key, value)\n",
    "    data_list += [{\n",
    "        'question': question,\n",
    "        'answer': sample['answer'],\n",
    "        'url': sample['chunk_url']\n",
    "    }]\n"
   ]
  },
  {
   "cell_type": "code",
   "execution_count": 10,
   "metadata": {},
   "outputs": [
    {
     "name": "stderr",
     "output_type": "stream",
     "text": [
      "100%|██████████| 200/200 [04:35<00:00,  1.38s/it]\n"
     ]
    }
   ],
   "source": [
    "url_acc_list = []\n",
    "con_acc_list = []\n",
    "cand = []\n",
    "ref = []\n",
    "for idx, sample in tqdm(enumerate(data_list), total=len(data_list)):\n",
    "\n",
    "    if idx in []:\n",
    "        continue\n",
    "\n",
    "    response = rag.ask(\n",
    "        sample['question'], \n",
    "        top_k=TOP_K, \n",
    "        use_upper_text=USE_UPPER_TEXT, \n",
    "        pre_answer=USE_PRE_ANSWER, \n",
    "    )\n",
    "\n",
    "    url_pred_list = []\n",
    "    doc_pred_list = []\n",
    "    for doc in response['relevant_docs']:\n",
    "        url_pred_list += [doc.url]\n",
    "        if USE_UPPER_TEXT:\n",
    "            doc_pred_list += [doc.upper_text]\n",
    "        else:\n",
    "            doc_pred_list += [doc.content]\n",
    "    url_gt = sample['url']\n",
    "\n",
    "    ans_pred = response['response']\n",
    "    ans_gt = sample['answer']\n",
    "\n",
    "    if url_gt in url_pred_list:\n",
    "        url_acc_list += [1]\n",
    "    else:\n",
    "        url_acc_list += [0]\n",
    "\n",
    "    hit_list = []\n",
    "    for content in doc_pred_list:\n",
    "        if ans_gt in content:\n",
    "            hit_list += [1]\n",
    "        else:\n",
    "            hit_list += [0]\n",
    "    con_acc_list += [sum(hit_list) / len(hit_list)]\n",
    "\n",
    "    cand += [ans_pred.split('Answer:')[-1]]\n",
    "    ref += [ans_gt]\n"
   ]
  },
  {
   "cell_type": "code",
   "execution_count": 11,
   "metadata": {},
   "outputs": [
    {
     "name": "stdout",
     "output_type": "stream",
     "text": [
      "0.0\n",
      "0.29665829155777124\n",
      "0.0\n",
      "0.2963090363459442\n",
      "0.29632136761694494\n",
      "0.9033\n",
      "0.755\n",
      "0.0\n"
     ]
    },
    {
     "name": "stderr",
     "output_type": "stream",
     "text": [
      "Warning: Empty candidate sentence detected; setting raw BERTscores to 0.\n",
      "Warning: Empty candidate sentence detected; setting raw BERTscores to 0.\n",
      "Warning: Empty candidate sentence detected; setting raw BERTscores to 0.\n",
      "Warning: Empty candidate sentence detected; setting raw BERTscores to 0.\n"
     ]
    }
   ],
   "source": [
    "_bleu = bleu.compute(predictions=cand, references=ref)\n",
    "print(f\"{_bleu['bleu']}\")\n",
    "_rouge = rouge.compute(predictions=cand, references=ref)\n",
    "print(f\"{_rouge['rouge1']}\\n{_rouge['rouge2']}\\n{_rouge['rougeL']}\\n{_rouge['rougeLsum']}\")\n",
    "bs_res = bertscore.compute(\n",
    "    predictions=cand,\n",
    "    references=ref,\n",
    "    lang=\"en\"\n",
    ")\n",
    "print(f\"{bs_res['f1'][0]:.4f}\")\n",
    "print(sum(url_acc_list) / len(url_acc_list))\n",
    "print(sum(con_acc_list) / len(con_acc_list))"
   ]
  },
  {
   "cell_type": "code",
   "execution_count": 12,
   "metadata": {},
   "outputs": [
    {
     "name": "stdout",
     "output_type": "stream",
     "text": [
      "0.88\n"
     ]
    }
   ],
   "source": [
    "acc_list = []\n",
    "for pred, gt in zip(cand, ref):\n",
    "    # print(pred, '/', gt)\n",
    "    if gt in pred:\n",
    "        acc_list += [1]\n",
    "    else:\n",
    "        acc_list += [0]\n",
    "\n",
    "print(sum(acc_list) / len(acc_list))"
   ]
  },
  {
   "cell_type": "code",
   "execution_count": 13,
   "metadata": {},
   "outputs": [
    {
     "name": "stdout",
     "output_type": "stream",
     "text": [
      " (C) FREE / (C)\n",
      " (B) He helped shape the industry with the design of Apple’s first line of products.\n",
      "\n",
      "References indicate that Steve Wozniak “helped shape the computing industry with the design of Apple’s first line of products, co-founding Apple Computer Inc. with Steve Jobs.” / (B)\n",
      " (C) Twitter, Instagram, LinkedIn, YouTube / (C)\n",
      " (C) By attending a seminar or conference and by making a gift to the university. The references consistently state that you can support EECS by attending seminars/conferences, viewing lectures, or making a gift to the university. / (C)\n",
      " (B) T. Lin and M. I. Jordan / (B)\n",
      " (B) Prof. Emeritus Leon O. Chua\n",
      "\n",
      "References 1, 3, 7, 8, and 9 all state that Prof. Emeritus Leon O. Chua has been named a Celebrated Member of the IEEE Electron Devices Society (EDS). / (B)\n",
      " (B) Secretary-of-state Web sites around the country\n",
      "\n",
      "Vy-An Phan focused on various secretary-of-state Web sites around the country, which house tools central to the electoral process. / (B)\n",
      " (B) Folding bed sheets / (B)\n",
      " (C) Ruzena Bajcsy and Eric Brewer / (C)\n",
      " (D) Billions of embedded devices\n",
      "\n",
      "The provided references state that 99% of the 16 billion microprocessors produced annually are RISC processors, and these are found in “most smartphones, tablets, and the billions of embedded devices that comprise the Internet of Things (IoT).” / (D)\n",
      "(B) Stuart Russell / (B)\n",
      " (B) Anca Dragan and Raluca Ada Popa / (B)\n",
      " (B) Kam Lau / (B)\n",
      " (A) Digital Defenders of Children / (A)\n",
      " / (A)\n",
      " (C) Pieter Abbeel and Sergey Levine / (C)\n",
      " (B) Creativity and budget for compute resources and data / (B)\n",
      " (B) Chair of the ACM Education Policy Committee / (B)\n",
      "(C) Both research-oriented and industry-oriented programs / (C)\n",
      "(B) More than 100\n",
      "\n",
      "According to Reference 1, Athans supervised the theses of more than 100 graduate students. / (B)\n",
      " How Bad are Selfish Investments in Network Security? / (B)\n",
      " (B) #1 According to multiple references, UC Berkeley was ranked #1 in America and #4 internationally by HackerRank's University Rankings Competition for producing the best coders. / (B)\n",
      "(A) Reimagining Cybersecurity for All / (A)\n",
      " (C) Asynchronously and at different frequencies\n",
      "\n",
      "References 1 and 2 state that RMA’s base policy and adaptation module “run asynchronously and at different frequencies so that it can operate reliably on a small onboard computer.” / (C)\n",
      " 5th floor atrium / (C)\n",
      "(C) / (C)\n",
      " (B) $2 million over two years The Hopper-Dean Foundation has awarded the EECS department $2 million over two years to support diversity initiatives in computer science. / (B)\n",
      " (B) Tsinghua-Berkeley Shenzhen Institute (TBSI) / (B)\n",
      "(B) Elizaveta Tremsina / (B)\n",
      " (C) A generic model with a finite description, built on top of hypercontracts\n",
      "\n",
      "The paper explicitly states: “On top of these foundations, we propose conic hypercontracts, which are still generic but come with a finite description.” This clearly defines conic hypercontracts as an extension of the broader hypercontracts model, retaining genericity but incorporating a finite, more concrete representation. / (C)\n",
      " (D) 3.4% / (B)\n",
      "(B) For pioneering and outstanding research of VCSEL photonics through the development of their novel functions for optical communications and optical sensing. The references consistently state that she won the Okawa Prize “for pioneering and outstanding research of VCSEL photonics…” / (B)\n",
      "(C) McGuffey Longevity Award / (C)\n",
      " (B) To fight climate change through multi-disciplinary partnerships. The text states that the initiative is “a multi-disciplinary student-led hub dedicated to fighting climate change.” / (B)\n",
      "(D) Election to the SIGCHI Academy\n",
      "\n",
      "References 7, 8, and 9 all state that Björn Hartmann was elected to the SIGCHI Academy. / (D)\n",
      " (C) No. 1 According to the references, Computer Science is ranked No. 1. / (C)\n",
      " A. Devonport / (A)\n",
      " (B) Safety-critical applications involving autonomous controllers and human operators. The technical report specifically mentions examples like pilots and drivers interacting with automated systems, highlighting the importance of human-in-the-loop control in these contexts. / (B)\n",
      " (C) John F. Canny / (C)\n",
      "(B) Analyzing the use of software tools as evidence in the U.S. criminal legal system.\n",
      "\n",
      "References 1, 2, 3, and 4 all state that Rediet Abebe's project “Algorithms on Trial” focuses on “the ubiquitous and improper use of software tools as evidence in the U.S. criminal legal system.” / (B)\n",
      " (C) Over half a century. The text states that Berkeley EECS has been at the forefront of research for “over half a century.” / (C)\n",
      " (B) Synthesizing a semi-autonomous controller from high-level temporal specifications expecting occasional human intervention.\n",
      "\n",
      "The technical report explicitly states: “Particularly, we focus on the problem of synthesizing a semi-autonomous controller from high-level temporal specifications that expect occasional human intervention for correct operation.” / (B)\n",
      " (B) $50.6M / (B)\n",
      " (C) Professor of Electrical Engineering and Computer Science at MIT.\n",
      "\n",
      "References 8 states: “Daniel, now a professor of Electrical Engineering and Computer Science at MIT…” / (C)\n",
      " (A) CITRIS Athena Award for Academic Leadership / (A)\n",
      " (D) 70 He holds 70 patents in non-volatile memory design and flash memory systems. / (D)\n",
      " (B) Data C8 or CS 10\n",
      "\n",
      "References 1 and 2 state that students with no prior programming experience should take either Data C8 or CS 10 to prepare for CS 61A. / (B)\n",
      "(B) Lotfi A. Zadeh / (B)\n",
      " (B) Charles Dove / (B)\n",
      " (B) $252 million / (B)\n",
      " (B) CompSci 101: Introduction to Computer Science / (B)\n",
      " (D) All of the above / (D)\n",
      "(C) It made a long term impact on standards like 6LoWPAN and platforms like Thread.\n",
      "\n",
      "References 6 and 7 explicitly state that the paper “dispelled the notion that IP cannot run on wireless embedded sensors and made a long term impact on standards like 6LoWPAN and platforms like Thread.” / (C)\n",
      " (B) $2M The EPIC Lab received a $2M grant from the National Science Foundation. / (B)\n",
      " 2017 / (B)\n",
      " (B) The basement of the Unit 2 dorm / (B)\n",
      " (C) UC Berkeley / (C)\n",
      "(B) Chevron Auditorium, International House, 2299 Piedmont Avenue, UC Berkeley / (B)\n",
      " (B) $9.2 million / (B)\n",
      " (B) Shafi Goldwasser / (B)\n",
      " Videos and photos / (B)\n",
      " (B) Division of Computing, Data Science, and Society / (B)\n",
      "(C) Elevation to IEEE Fellow / (C)\n",
      "(B) Linear Integrated Circuits including transistor amplifiers and operational amplifiers. The catalog description of EE 140 explicitly states: “Single and multiple stage transistor amplifiers. Operational amplifiers. Feedback amplifiers, 2-port formulation, source, load, and feedback network loading. Frequency response of cascaded amplifiers, gain-bandwidth exchange, compensation, dominant pole techniques, root locus. Supply and temperature independent biasing and references.” / (B)\n",
      " (B) / (B)\n",
      " (B) #1, tied with MIT and Stanford. According to References 4, 5, 6, and 7, the Computer Science graduate program is ranked #1, tied with MIT and Stanford. / (B)\n",
      " B / (B)\n",
      "(C) Gustav Kirchhoff Award According to References 1 and 3, Leon Chua received the Gustav Kirchhoff Award in 2005 for his contributions to the fundamentals of electronic circuits and systems. / (C)\n",
      " (B) Alexandre Bayen / (B)\n",
      " (B) 11 / (B)\n",
      "(B) ACM SIGMOD Systems Award / (B)\n",
      " (C) Open-loop, closed-loop, and partly-open loop / (C)\n",
      " Computer science education: learning environments and activities / (B)\n",
      " (B) Elected to the National Academy of Sciences. The references all state that Umesh Vazirani and Sanjeev Arora were elected to the National Academy of Sciences in May 2018. / (B)\n",
      " (B) At the annual spring Metallurgical Society Northern California Electronics Materials Symposium and also as part of the EECS Student Awards ceremony when there is an EECS recipient / (B)\n",
      " (C) Mary Ann Horton / (C)\n",
      " (C) She was named both a Rising Star and a Star by N2 Women\n",
      "\n",
      "References 3 and 4 state that Prof. Sylvia Ratnasamy was named a Rising Star in 2016 and a Star in 2019 by N2 Women. / (C)\n",
      " (B) / (B)\n",
      " (C) Pratul Srinivasan and Benjamin Mildenhall / (C)\n",
      "(B) Ming Wu / (B)\n",
      " (A) IEEE / CVF Computer Vision and Pattern Recognition Conference (CVPR) / (A)\n",
      "(B) Founding Dean of the Cornell College of Business / (B)\n",
      " (B) #1 According to References 5 and 6, Berkeley Computer Science is ranked #1 in 2023. / (B)\n",
      "(B) / (B)\n",
      "(B) ACM A.M. Turing Award William M. Kahan won the ACM A.M. Turing Award in 1989, as stated in references 4, 7, and 6. / (B)\n",
      " (B) James Clerk Maxwell Award / (B)\n",
      " (B) 1998 / (B)\n",
      "(A) Deep reinforcement learning / (A)\n",
      " (B) 2005 / (B)\n",
      " (B) Alvin Cheung / (B)\n",
      " (D) It is being affected by data According to Prof. Dan Garcia, “Every single industry is being affected by data.” / (D)\n",
      "(C) Yes, it was solo-authored The references all state that Xin Lyu's paper was a solo-authored paper. / (C)\n",
      " Department of Electrical Engineering and Computer Sciences (EECS) / (C)\n",
      " (B) Building the first implantable dust-sized wireless sensors. The references state that Michel Maharbiz, Jose Carmena, Elad Alon, and Jan Rabaey built the first implantable dust-sized wireless sensors on August 3, 2016. / (B)\n",
      " (C) Fall 2025 / (C)\n",
      " (B) EE 229A. Information Theory and Coding / (B)\n",
      "(C) / (C)\n",
      " (C) 2021 / (C)\n",
      " (C) 2020 ACM Distinguished Service Award\n",
      " / (C)\n",
      " Scott McNally / (B)\n",
      " (B) Air Traffic Alert and Collision Avoidance System (TCAS)\n",
      "\n",
      "The references specifically mention that the technique was demonstrated on examples including the Air Traffic Alert and Collision Avoidance System (TCAS). / (B)\n",
      "(C) / (C)\n",
      " (C) Yes, it counts for both the CS major and CS minor. Data 100 was previously listed as CS C100/Stat C100. Since it is a CS upper-division class, it counts for both the CS major and CS minor, regardless if you are enrolled in CS C100, Stat C100, or Data C100. / (C)\n",
      " 30 minutes / (B)\n",
      " (B) Crime prevention Hany Farid’s research has been applied to tackle issues such as crime prevention, child pornography, and scientific integrity. / (B)\n",
      " / (B)\n",
      " (D) 2013 / (D)\n",
      " (B) IEEE Photonics Society William Streifer Scientific Achievement Award / (B)\n",
      " (B) $50k-$75k / (B)\n",
      " (B) $252 million The anonymous donor pledged $252 million to help fund the construction of the new Data Science building. / (B)\n",
      " (A) 2016 ACM Transactions on Design Automation of Electronic Systems (TODAES) Best Paper Award / (A)\n",
      "(D) 2014-15 / (D)\n",
      " (B) Secure Machine Learning / (B)\n",
      "(C) Dr. Sudhakar Yalamanchili (Sudha) Award.\n",
      "\n",
      "Sophia Shao won the Dr. Sudhakar Yalamanchili (Sudha) Award at the ModSim 2021 Workshop in December 2021, as well as the inaugural ModSim 2021 Sudha Award on December 8, 2021. / (C)\n",
      " (B) Three to four weeks after final exams / (B)\n",
      " (B) Research The newsletter states \"Research is the foundation of Berkeley EECS.\" / (B)\n",
      "(C) / (C)\n",
      " (B) / (B)\n",
      " (C) An internship at a portfolio company. The provided references consistently state that the Accel Scholars program guarantees students an internship at a portfolio company. / (C)\n",
      " / (C)\n",
      " (A) Kevin Cheang / (B)\n",
      " (B) The department’s 50th anniversary The BEARS 2023 lectures will highlight the department’s 50th anniversary. / (B)\n",
      "(D) IFAC Fellow Award / (D)\n",
      "(B) 2003 / (B)\n",
      " (B) To generate workloads for Cloud Computing applications with varying dimensions.\n",
      "\n",
      "The text states: “In this paper we present Rain, a workload generation toolkit designed to address this lack of flexibility. Rain allows for the use of probability distributions as first class elements that describe variations in the three key dimensions of workload.” / (B)\n",
      " (C) Being considered one of the fathers of Puerto Rican literature / (C)\n",
      " (B) 1982 / (B)\n",
      " ‘Before You Arrive’, ‘Once You Arrive’, and others / (C)\n",
      " (B) Research The provided text consistently states that research is the foundation of Berkeley EECS. / (B)\n",
      " (B) Director of the Berkeley Robot Learning Lab and Co-Director of the Berkeley Artificial Intelligence (BAIR) Lab. Professor Abbeel’s biography consistently states he holds these roles at UC Berkeley. / (B)\n",
      "(B) 1998 / (B)\n",
      " (B) / (B)\n",
      " (B) Through MY EECS INFO online / (B)\n",
      "(B) BiasBusters / (B)\n",
      " (B) Enter the SPA name, '+', and your CalNet ID into the CalNet ID field. / (B)\n",
      " (B) To serve as a hub for cutting-edge applied research in generative AI (GenAI) The mission of the UC Berkeley AI Center of Excellence, as stated in all provided references, is to serve as a hub for cutting-edge applied research in generative AI (GenAI), drawing on the collective knowledge and resources of Intel and UC Berkeley. / (B)\n",
      " (B) John R. Whinnery Chair Professor Emerita. Constance Chang-Hasnain is listed as the John R. Whinnery Chair Professor Emerita of Electrical Engineering and Computer Sciences at UC Berkeley. / (B)\n",
      " (C) Learners explored concepts in clusters when navigating a graph\n",
      "\n",
      "The references consistently state that while users often followed a list of concepts in order, learners who navigated the graph explored concepts in clusters. / (C)\n",
      " (C) Up to $300,000 / (C)\n",
      " (C) / (C)\n",
      " (C) Opening Keynote Speaker / (C)\n",
      " (C) $250,000 for 10 percent equity to back a startup According to the provided references, Pejman Mar Ventures is offering $250,000 to back a startup founded by a Berkeley student, faculty member, or alum in exchange for 10 percent equity. / (C)\n",
      " (C) 2003 Professor Lawrence A. Rowe retired from the University in June 2003. / (C)\n",
      "(B) R. Gupta, J. Musacchio, and Jean Walrand / (B)\n",
      " (C) / (C)\n",
      "(D) UC Berkeley / (D)\n",
      " (B) 2024 Packard Fellow for Science and Engineering Yasser Khan, an alumnus of EECS, has been honored by The David and Lucile Packard Foundation as one of the 2024 Packard Fellows for Science and Engineering. / (B)\n",
      " (B) 1972 / (B)\n",
      "(B) / (B)\n",
      " (B) A Classical Spin on Quantum Computing / (B)\n",
      " (C) MEGA2D / (C)\n",
      "(B) / (B)\n",
      " (C) Head of Google Research Australia Peter Bartlett is a professor in the Department of Electrical Engineering and Computer Sciences and the Department of Statistics and Head of Google Research Australia. / (C)\n",
      " (A) Baku, Azerbaijan / (A)\n",
      " (B) As graphs using a Graph Neural Networks based architecture\n",
      "\n",
      "The thesis explicitly states that the research addresses the challenge of representation by using a Graph Neural Networks based architecture to process propositional formulas as graphs. / (B)\n",
      "(A) / (B)\n",
      " (C) The Outputs of Jacksonian Networks are Poissonian / (C)\n",
      " Higgins Professor of Natural Sciences / (B)\n",
      " (C) NewsBot / (C)\n",
      " (A) Languages and Tools for Hybrid Systems Design / (A)\n",
      " (B) Data 8X / (B)\n",
      " (B) AI@The House / (B)\n",
      "(B) Sergey Levine, Nilah Ioannidis, and Dorsa Sadigh The provided references state that Sergey Levine, Nilah Ioannidis, and Dorsa Sadigh were awarded the 2022 Okawa Research Grants. / (B)\n",
      " (A) BLUE (Berkeley robot for Learning in Unstructured Environments) / (A)\n",
      "(A) Soda Hall (HP Auditorium) at UC Berkeley / (A)\n",
      " (D) 1988\n",
      "\n",
      "References 6 state: “Among his illustrious accomplishments, Brodersen was elected as a member of the National Academy of Engineering in 1988”. / (D)\n",
      " (B) Stuart Russell\n",
      "\n",
      "According to all the provided references, Stuart Russell has been awarded the AAAI Award for Artificial Intelligence for the Benefit of Humanity. / (B)\n",
      " (B) / (B)\n",
      " (B) $1 million. The references state that the EECS department received a $1 million gift in 2016 and a subsequent $2 million gift over two years. / (B)\n",
      " (C) 2009 / (C)\n",
      " (C) G. Kesidis and Jean Walrand / (C)\n",
      "(B) Cheap and easy biological microscopy in a portable device The references consistently state that the attachment is for “cheap and easy biological microscopy in a portable device.” / (B)\n",
      " / (B)\n",
      "(C) / (C)\n",
      " (B) For advancing Taiwan’s Semiconductor Industry. The references all state that Professor Chenming Hu was awarded the prize “for advancing Taiwan’s Semiconductor Industry.” / (B)\n",
      " (C) 2020 / (B)\n",
      " / (A)\n",
      " (A) To design highly robust large-scale systems comprising unreliable individual entities. / (A)\n",
      " (B) 1996 / (B)\n",
      " (A) Quantifier-free finite-precision bit-vector logic (QF BV)\n",
      "\n",
      "Beaver is explicitly designed and optimized for solving SMT problems in QF_BV logic. The references consistently describe it as an SMT solver for this specific type of logic. / (A)\n",
      " (B) IEEE James L. Flanagan Speech and Audio Processing Award / (B)\n",
      " (D) SVR 'Innovation and Overall Excellence' Award / (B)\n",
      " (A) Prof. James Demmel and Prof. Emeritus Robert Brayton\n",
      "\n",
      "The content lists Prof. Scott Shenker (2017) and Prof. James Demmel (2014) and Prof. Robert K. Brayton (2006) as previous winners of the ACM Paris Kanellakis Theory and Practice Award. / (A)\n",
      " (A) Turi Inc. (formerly GraphLab) / (A)\n",
      " (B) 24 units / (B)\n",
      "(B) / (B)\n",
      " (A) Silicon Valley Robotics (SVR) 'Good Robot' Innovation and Overall Excellence Industry Award / (A)\n",
      " (B) Working on Aladdin and developing apps for BlackRock's clients According to the references, Alex Montanez will serve on the science team that works on Aladdin as well as on developing apps used by the firm’s clients. / (B)\n",
      " (B) Sanjit Seshia and Alexandre Donze. The references consistently state that Sanjit Seshia and Alexandre Donze co-authored the paper that received the award. / (B)\n",
      "(B) To drop the GRE requirement indefinitely / (B)\n",
      " C / (C)\n",
      "(A) Berkeley Artificial Intelligence Research Lab (BAIR) and Center for Theoretical Foundations of Learning, Inference, Information, Intelligence, Mathematics and Microeconomics at Berkeley (CLIMB) / (A)\n",
      " / (C)\n",
      " (B) To create a low-cost powered air-purified respirator (PAPR) for healthcare workers. The references consistently state that Dutta and Pilawa-Podgurski are developing cost-effective PAPRs for healthcare workers. / (B)\n",
      " (B) $100,000 cash prize and possible job interviews / (B)\n",
      " (B) EE alumnus Kenneth Thompson\n",
      "\n",
      "According to References 2 and 6, Kenneth Thompson (B.S. ‘65/M.S. ‘66), an EE alumnus, developed Unix in 1969. / (B)\n",
      " (B) Michael I. Jordan / (B)\n",
      " (B) 24 hours The campaign runs from 9 pm on Wednesday, March 13 to 9 pm on Thursday, March 14. / (B)\n",
      " (B) The Dahl-Nygaard Junior Prize. Alvin Cheung has been awarded the Dahl-Nygaard Junior Prize multiple times, as evidenced by References 1, 4, and 7. / (B)\n",
      " (B) Corelight / (B)\n"
     ]
    }
   ],
   "source": [
    "for pred, gt in zip(cand, ref):\n",
    "    print(pred, '/', gt)"
   ]
  }
 ],
 "metadata": {
  "kernelspec": {
   "display_name": "MVLM_RAG",
   "language": "python",
   "name": "python3"
  },
  "language_info": {
   "codemirror_mode": {
    "name": "ipython",
    "version": 3
   },
   "file_extension": ".py",
   "mimetype": "text/x-python",
   "name": "python",
   "nbconvert_exporter": "python",
   "pygments_lexer": "ipython3",
   "version": "3.10.18"
  },
  "orig_nbformat": 4
 },
 "nbformat": 4,
 "nbformat_minor": 2
}

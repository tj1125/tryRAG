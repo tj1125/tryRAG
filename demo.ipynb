{
 "cells": [
  {
   "cell_type": "code",
   "execution_count": 1,
   "metadata": {},
   "outputs": [
    {
     "name": "stderr",
     "output_type": "stream",
     "text": [
      "/home/yasaisen/anaconda3/envs/MVLM_RAG/lib/python3.10/site-packages/tqdm/auto.py:21: TqdmWarning: IProgress not found. Please update jupyter and ipywidgets. See https://ipywidgets.readthedocs.io/en/stable/user_install.html\n",
      "  from .autonotebook import tqdm as notebook_tqdm\n"
     ]
    }
   ],
   "source": [
    "import os\n",
    "from tryRAG.framework import RAGFramework"
   ]
  },
  {
   "cell_type": "code",
   "execution_count": 2,
   "metadata": {},
   "outputs": [
    {
     "name": "stderr",
     "output_type": "stream",
     "text": [
      "Loading checkpoint shards: 100%|██████████| 2/2 [00:02<00:00,  1.00s/it]\n"
     ]
    },
    {
     "name": "stdout",
     "output_type": "stream",
     "text": [
      "Loaded ['dense', 'sparse'] index from /home/yasaisen/Desktop/29_research/research_main/lab_05/to_git/tryRAG/../ref_idx/paragraph_p\n",
      "RAGFramework initialized\n",
      "\n"
     ]
    }
   ],
   "source": [
    "doc_path = os.path.join(os.getcwd(), \"../..\", \"ref_docs\", \"eecs_20250606_text_bs_rewritten.jsonl\")\n",
    "idx_path = os.path.join(os.getcwd(), \"..\", \"ref_idx\", \"paragraph_p\")\n",
    "\n",
    "cfg = {\n",
    "    \"lm_model_name\": \"../../gemma-3-4b-it\", \n",
    "    \"emb_model_name\": \"all-MiniLM-L6-v2\", \n",
    "    \"mode\": \"hybrid\", #@ \"hybrid\" / \"sparse\" / \"hybrid\"\n",
    "    \"chunk_level\": \"paragraph\", #@ \"web_page\" / \"paragraph\" / \"sentence\"\n",
    "    \"more_info\": True, #@ True / False\n",
    "    # \"doc_path\": doc_path, \n",
    "    \"idx_path\": idx_path, \n",
    "    \"device\": \"cuda\", \n",
    "}\n",
    "USE_UPPER_TEXT = False\n",
    "USE_PRE_ANSWER = False\n",
    "TOP_K = 5\n",
    "\n",
    "rag = RAGFramework.from_config(cfg)"
   ]
  },
  {
   "cell_type": "code",
   "execution_count": 3,
   "metadata": {},
   "outputs": [
    {
     "name": "stdout",
     "output_type": "stream",
     "text": [
      "Answer: (C) Over half a century. The text states that Berkeley EECS has been at the forefront of research for “over half a century.”\n",
      "====================\n",
      "13572 https://eecs.berkeley.edu/research/colloquium/archives/spring2021\n",
      "17551 https://eecs.berkeley.edu/category/research/page/4\n",
      "58708 https://eecs.berkeley.edu/category/research/page/76\n",
      "17550 https://eecs.berkeley.edu/category/research/page/4\n",
      "44627 https://eecs.berkeley.edu/category/research/page/12\n",
      "18856 http://www.eecs.berkeley.edu/IPRO/BEARS/2011\n",
      "18855 http://www.eecs.berkeley.edu/IPRO/BEARS/2011\n",
      "18881 http://www.eecs.berkeley.edu/IPRO/BEARS/2010\n",
      "18882 http://www.eecs.berkeley.edu/IPRO/BEARS/2010\n",
      "19411 http://www.eecs.berkeley.edu/IPRO/BEARS/open-house/12/trust.html\n"
     ]
    }
   ],
   "source": [
    "question = 'For how long has Berkeley EECS been at the forefront of research? Available options:\\n    (A) Less than a decade\\n    (B) Over a quarter of a century\\n    (C) Over half a century\\n    (D) Over a century'\n",
    "\n",
    "response = rag.ask(question, top_k=TOP_K)\n",
    "print(response['response'])\n",
    "\n",
    "print('=' * 20)\n",
    "for doc in response['relevant_docs']:\n",
    "    print(doc.idx, doc.url)"
   ]
  },
  {
   "cell_type": "code",
   "execution_count": 4,
   "metadata": {},
   "outputs": [
    {
     "name": "stdout",
     "output_type": "stream",
     "text": [
      "Lee Julian Purnell is the first Black student known to have graduated from the EECS department at UC Berkeley. He was born in Washington, D.C. in 1896, graduated from Berkeley High in 1915, earned a B.A. from Cal in 1919, and later obtained a B.S. in Electrical Engineering from MIT in 1921 and an M.S. in Electrical Engineering from Berkeley in 19\n",
      "====================\n",
      "63613 https://eecs.berkeley.edu/category/people/page/29\n",
      "63461 https://eecs.berkeley.edu/news/page/27/?field_eecs_news_topics_target_id_entityreference_filter=61\n",
      "63279 https://eecs.berkeley.edu/news/page/27/?field_eecs_news_topics_target_id_entityreference_filter=68\n",
      "14766 https://eecs.berkeley.edu/blog/page/7\n",
      "63462 https://eecs.berkeley.edu/news/page/27/?field_eecs_news_topics_target_id_entityreference_filter=61\n",
      "63154 https://eecs.berkeley.edu/news/page/27/?field_eecs_news_topics_target_id_entityreference_filter=60\n",
      "63023 https://eecs.berkeley.edu/news/page/27/?field_eecs_news_topics_target_id_entityreference_filter=64\n",
      "65052 https://eecs.berkeley.edu/news/page/27/?field_eecs_news_topics_target_id_entityreference_filter=67\n",
      "63608 https://eecs.berkeley.edu/category/people/page/28\n"
     ]
    }
   ],
   "source": [
    "question = 'Who is Lee Julian Purnell'\n",
    "\n",
    "response = rag.ask(question, top_k=TOP_K)\n",
    "print(response['response'])\n",
    "\n",
    "print('=' * 20)\n",
    "for doc in response['relevant_docs']:\n",
    "    print(doc.idx, doc.url)"
   ]
  },
  {
   "cell_type": "code",
   "execution_count": 5,
   "metadata": {},
   "outputs": [],
   "source": [
    "from tryRAG.evaluate import Evaluator, batchTestRunner"
   ]
  },
  {
   "cell_type": "code",
   "execution_count": 9,
   "metadata": {},
   "outputs": [
    {
     "name": "stdout",
     "output_type": "stream",
     "text": [
      "14241 dict_keys(['chunk_url', 'content', 'question', 'answer'])\n"
     ]
    }
   ],
   "source": [
    "testrunner = batchTestRunner(\n",
    "    rag=rag, \n",
    "    dataset_type='optionalQA', #@ 'factoidQA' / 'optionalQA'\n",
    ")"
   ]
  },
  {
   "cell_type": "code",
   "execution_count": 10,
   "metadata": {},
   "outputs": [
    {
     "name": "stderr",
     "output_type": "stream",
     "text": [
      "100%|██████████| 200/200 [04:35<00:00,  1.38s/it]\n"
     ]
    }
   ],
   "source": [
    "result_dict = testrunner.test(\n",
    "    TOP_K=TOP_K, \n",
    "    USE_UPPER_TEXT=USE_UPPER_TEXT, \n",
    "    USE_PRE_ANSWER=USE_PRE_ANSWER,\n",
    ")"
   ]
  },
  {
   "cell_type": "code",
   "execution_count": 8,
   "metadata": {},
   "outputs": [
    {
     "name": "stderr",
     "output_type": "stream",
     "text": [
      "Some weights of RobertaModel were not initialized from the model checkpoint at roberta-large and are newly initialized: ['pooler.dense.bias', 'pooler.dense.weight']\n",
      "You should probably TRAIN this model on a down-stream task to be able to use it for predictions and inference.\n"
     ]
    },
    {
     "data": {
      "text/plain": [
       "{'bleu': 0.06862745098039216,\n",
       " 'brevity_penalty': 0.947220561907903,\n",
       " 'length_ratio': 7.748697054579407,\n",
       " 'translation_length': 12.980392156862745,\n",
       " 'reference_length': 2.392156862745098,\n",
       " 'rouge1': 0.49146477989188986,\n",
       " 'rouge2': 0.3238426949727259,\n",
       " 'rougeL': 0.49146477989188986,\n",
       " 'rougeLsum': 0.49146477989188986,\n",
       " 'hit_rate': 0.4411764705882353,\n",
       " 'backHit_rate': 0.32435807656395893}"
      ]
     },
     "execution_count": 8,
     "metadata": {},
     "output_type": "execute_result"
    }
   ],
   "source": [
    "evaluator = Evaluator()\n",
    "eval_res = evaluator.evaluate(\n",
    "    result_dict=result_dict,\n",
    ")\n",
    "eval_res"
   ]
  }
 ],
 "metadata": {
  "kernelspec": {
   "display_name": "MVLM_RAG",
   "language": "python",
   "name": "python3"
  },
  "language_info": {
   "codemirror_mode": {
    "name": "ipython",
    "version": 3
   },
   "file_extension": ".py",
   "mimetype": "text/x-python",
   "name": "python",
   "nbconvert_exporter": "python",
   "pygments_lexer": "ipython3",
   "version": "3.10.18"
  },
  "orig_nbformat": 4
 },
 "nbformat": 4,
 "nbformat_minor": 2
}
